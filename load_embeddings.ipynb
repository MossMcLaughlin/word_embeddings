{
 "cells": [
  {
   "cell_type": "code",
   "execution_count": 10,
   "metadata": {
    "collapsed": false,
    "deletable": true,
    "editable": true,
    "scrolled": true
   },
   "outputs": [],
   "source": [
    "# 3/2017 | Moss McLaughlin"
   ]
  },
  {
   "cell_type": "code",
   "execution_count": 11,
   "metadata": {
    "collapsed": false,
    "deletable": true,
    "editable": true,
    "scrolled": true
   },
   "outputs": [],
   "source": [
    "import sys\n",
    "import csv\n",
    "import itertools\n",
    "import time\n",
    "import operator\n",
    "import io\n",
    "import array\n",
    "from datetime import datetime\n",
    "\n",
    "import numpy as np\n",
    "import nltk"
   ]
  },
  {
   "cell_type": "code",
   "execution_count": 12,
   "metadata": {
    "collapsed": true,
    "deletable": true,
    "editable": true,
    "scrolled": true
   },
   "outputs": [],
   "source": [
    "SENTENCE_START_TOKEN = \"sentence_start\"\n",
    "SENTENCE_END_TOKEN = \"sentence_end\"\n",
    "UNKNOWN_TOKEN = \"<UNK>\"\n",
    "ARTICLE_END_TOKEN = \"</ARTICLE_END>\"\n",
    "NUM_TOKEN = \"<NUM>\"\n",
    "\n",
    "similarity_threshold = 0.95\n",
    "replace_similar_words = True\n",
    "\n",
    "embedding_file = 'glove.6B/glove.6B.50d.txt'\n",
    "data_file = '../txtgen/data/IMDB_Data.txt'"
   ]
  },
  {
   "cell_type": "markdown",
   "metadata": {
    "deletable": true,
    "editable": true
   },
   "source": [
    "## Load Pre-trained GloVe emeddings"
   ]
  },
  {
   "cell_type": "markdown",
   "metadata": {
    "deletable": true,
    "editable": true
   },
   "source": [
    "Load pre-trained GloVe word emeddings and build a dictionary.\n",
    "Dataset has vocabulary of 400,000.\n",
    "\n",
    "Example lines (500,501,502) of glove.6B.50d.txt (words are 50 dimensional vectors):\n",
    "\n",
    "college -1.2283 1.4176 -0.68625 -1.1615 -0.0019627 -0.52577 -1.5977 -0.25307 -0.21699 -0.56572 -0.14248 0.15765 0.18763 -1.3173 -0.53438 0.20573 -0.47985 1.0476 -0.5075 0.77326 0.39774 0.70346 -0.32232 0.60171 -0.13352 -1.842 -0.092598 -1.1288 -1.4859 -0.86235 2.5976 0.66146 -0.054094 -1.5755 1.1185 0.13911 -0.26915 0.57159 1.3328 -0.24861 -0.68554 -0.43956 -0.86744 0.95772 -0.67349 0.36049 0.61952 -0.26356 -0.3715 0.32093\n",
    "\n",
    "working 0.25792 -0.14413 -0.035634 -0.60551 0.11004 -0.058799 -1.2209 -0.031605 -0.023699 -0.37419 0.28924 0.12331 -0.31903 0.65017 0.28362 -0.20956 0.30423 0.75571 0.47964 -0.41976 0.68923 0.92026 0.070798 0.3948 0.24721 -1.4038 -0.14209 -0.6946 -0.035052 0.0041205 3.4024 0.036271 -0.58483 -0.72107 0.036996 0.33065 -0.27332 0.51897 0.3499 0.061199 -0.36178 -0.26534 0.4271 0.0081181 0.19844 -0.38564 -0.35535 0.032932 -0.50055 0.54358\n",
    "\n",
    "community 0.14774 0.62713 -0.81852 -0.16878 0.44055 -0.12515 -0.87369 -0.060084 0.48804 -0.23463 -0.017574 -0.70673 \n",
    "0.77392 -0.82772 -0.69719 0.076588 0.98306 0.58452 0.77501 0.30231 0.0059052 0.58345 -1.0178 1.1176 -0.13487 -1.2102 -0.095842 -0.70611 -0.54565 -0.12818 3.4346 0.12549 -0.35702 -1.3685 -0.32705 -0.25489 -0.52943 -0.90213 0.28179 0.22691 -0.47532 -0.51934 -0.32232 0.07629 -0.10132 0.47723 -0.83698 0.021588 -0.36972 0.14843\n",
    "\n",
    "The dataset is ordered from most to least frequent tokens.\n",
    "The three most frequent tokens are ['the'], [','], ['.'].  \n",
    "\n",
    "We can build a smaller dictionary to increase speed by only reading the first n lines of glove.6B.50d.txt   "
   ]
  },
  {
   "cell_type": "code",
   "execution_count": 13,
   "metadata": {
    "collapsed": false,
    "deletable": true,
    "editable": true,
    "scrolled": true
   },
   "outputs": [],
   "source": [
    "def load_embeddings():\n",
    "  print(\"Loading word embeddings...\")\n",
    "  with open(embedding_file) as f:\n",
    "    words = {}\n",
    "    w = [line.split(' ') for line in f]\n",
    "    #print(w[0])\n",
    "    v = [x[1:] for x in w[:200000]] # here is where you can edit embedding vocab size \n",
    "    w = [x[0] for x in w[:200000]]\n",
    "    print(\"Word embedding vocab size: \",len(v),'\\n')\n",
    "    \n",
    "\n",
    "    for i in range(len(w)):\n",
    "      words[w[i]] = v[i]\n",
    "\n",
    "    return(words)\n"
   ]
  },
  {
   "cell_type": "code",
   "execution_count": 14,
   "metadata": {
    "collapsed": true,
    "deletable": true,
    "editable": true,
    "scrolled": true
   },
   "outputs": [],
   "source": [
    "def create_embedding(vocab_size,itw):\n",
    "    print(\"Building word embedding matrix...\")\n",
    "    E = [None] * vocab_size\n",
    "    embedding_dict = load_embeddings()\n",
    "    for i in range(vocab_size): E[i] = embedding_dict[itw[i]]\n",
    "    return E\n",
    "        "
   ]
  },
  {
   "cell_type": "code",
   "execution_count": 15,
   "metadata": {
    "collapsed": true,
    "deletable": true,
    "editable": true
   },
   "outputs": [],
   "source": [
    "def cos_similarity(x,y):\n",
    "    x = np.array(x).astype(np.float)\n",
    "    y = np.array(y).astype(np.float)\n",
    "    d = np.dot(x,y) / (np.sqrt(np.dot(x,x))*(np.sqrt(np.dot(y,y))))\n",
    "    return d"
   ]
  },
  {
   "cell_type": "code",
   "execution_count": 16,
   "metadata": {
    "collapsed": true,
    "deletable": true,
    "editable": true
   },
   "outputs": [],
   "source": [
    "def find_similar_words(word,word_list,embeddings,similarity_threshold):\n",
    "    similarity = [cos_similarity(embeddings[word],embeddings[w[0]]) for w in word_list]\n",
    "    similarity = np.array(similarity)\n",
    "    if similarity[similarity.argmax()] > similarity_threshold:\n",
    "        return word,similarity.argmax()\n",
    "    "
   ]
  },
  {
   "cell_type": "markdown",
   "metadata": {
    "deletable": true,
    "editable": true
   },
   "source": [
    "## Load and format training data"
   ]
  },
  {
   "cell_type": "markdown",
   "metadata": {
    "deletable": true,
    "editable": true
   },
   "source": [
    "We format, tokenize and filter our training data, then make a list of the most frequent words. Here we choose the vocab size our model will know.    "
   ]
  },
  {
   "cell_type": "code",
   "execution_count": 17,
   "metadata": {
    "collapsed": false,
    "deletable": true,
    "editable": true,
    "scrolled": true
   },
   "outputs": [],
   "source": [
    "def load_data(filename, vocabulary_size=2000):\n",
    "    word_to_index = []\n",
    "    index_to_word = []\n",
    "    print(\"Reading text file...\")\n",
    "    with open(filename, 'rt') as f:\n",
    "        txt = f.read()\n",
    "        txt = txt.split(ARTICLE_END_TOKEN)\n",
    "        txt = [line.split('.') for line in txt]\n",
    "        txt.pop()\n",
    "        txt.pop()\n",
    "        for line in txt: line.pop()\n",
    "        print('Raw training data:')\n",
    "        print(txt[0][:2])\n",
    "        print('\\n')\n",
    "        print(txt[-1][-2:])\n",
    "        print('\\n')\n",
    "\n",
    "        \n",
    "        \n",
    "    print(\"Parsed %d sentences.\\n\" % (np.sum([len(article) for article in txt])))\n",
    "    \n",
    "    print(\"Tokenizing sentences...\")\n",
    "    tokenized_sentences = [[nltk.word_tokenize(line.replace('<br /><br />',' ').lower()) for line in article] for article in txt]\n",
    "    print(\"Done.\\n\")\n",
    "    \n",
    "    \n",
    "    for i,article in enumerate(tokenized_sentences):\n",
    "        a = []\n",
    "        for sent in article: a += sent\n",
    "        tokenized_sentences[i] = a\n",
    "    \n",
    "    \n",
    "    \n",
    "    # Filter Words.\n",
    "    print(\"Filtering words...\")\n",
    "    tokenized_sentences = [[w for w in line if not w==''] for line in tokenized_sentences]\n",
    "    tokenized_sentences = [[w for w in line if '\\\\' not in w] for line in tokenized_sentences]\n",
    "    tokenized_sentences = [[w for w in line if '*' not in w] for line in tokenized_sentences]\n",
    "    tokenized_sentences = [[w for w in line if '[' not in w] for line in tokenized_sentences]\n",
    "    tokenized_sentences = [[w for w in line if ']' not in w] for line in tokenized_sentences]\n",
    "    tokenized_sentences = [[w for w in line if '\"' not in w] for line in tokenized_sentences]\n",
    "    tokenized_sentences = [[w for w in line if \"'\" not in w] for line in tokenized_sentences]\n",
    "    tokenized_sentences = [[w for w in line if \"`\" not in w] for line in tokenized_sentences]\n",
    "    \n",
    "    \n",
    "    # Replace all numbers with num_token\n",
    "    for i,line in enumerate(tokenized_sentences):\n",
    "        tokenized_sentences[i] = [w if w.isnumeric()==False else NUM_TOKEN for w in line]\n",
    "    print(\"Done.\\n\")\n",
    "    \n",
    "    print(tokenized_sentences[:5])\n",
    "    \n",
    "    # Count word frequencies and build vocab\n",
    "    word_freq = nltk.FreqDist(itertools.chain(*tokenized_sentences))\n",
    "    n_data_words = len(word_freq.items())\n",
    "    print(\"Found %d unique words tokens.\\n\" % n_data_words)\n",
    "\n",
    "    \n",
    "    embeddings = load_embeddings()\n",
    "    vocab = sorted(word_freq.items(), key=lambda x: (x[1], x[0]), reverse=True)\n",
    "    \n",
    "    # Only consider words that are in GloVe embeddings and appear at least twice.\n",
    "    vocab = [w for w in vocab if w[0] in embeddings]\n",
    "    n_glove_words = len(vocab)\n",
    "    print(\"Found %d out of %d words in GloVe embeddings.\" % (n_glove_words,n_data_words))\n",
    "    vocab = [w for w in vocab if w[1] > 1]\n",
    "    \n",
    "    # We take the [vocabulary_size] most frequent words and build our word embedding matrix (or lookup table for now).  \n",
    "    # Words in dataset are now either inside or outside embedding matrix.\n",
    "    inside_words = sorted(vocab[:vocabulary_size], key=operator.itemgetter(1))\n",
    "    outside_words = sorted(vocab[vocabulary_size:], key=operator.itemgetter(1))\n",
    "    print(\"%d out of %d words appears more than once.\\n\" % (len(vocab),n_glove_words))\n",
    "    \n",
    "    index_to_word = [\"<MASK/>\", UNKNOWN_TOKEN,SENTENCE_END_TOKEN] + [x[0] for x in inside_words]\n",
    "    word_to_index = dict([(w, i) for i, w in enumerate(index_to_word)])\n",
    "    \n",
    "    print(\"Using vocabulary size %d.\" % vocabulary_size)\n",
    "    print(\"The least frequent word in our vocablary is '%s' and appeared %d times in this dataset.\\n\" \\\n",
    "          % (inside_words[1][0], inside_words[1][1]))\n",
    "    \n",
    "    # Find similar words that are in the data set but outside of our vocabulary\n",
    "    print(\"Searching for similar words...\")\n",
    "    similar_words = {}\n",
    "    if replace_similar_words:\n",
    "        for w in outside_words:\n",
    "            try: \n",
    "                similar_word,similar_index = find_similar_words(w[0],inside_words,embeddings,similarity_threshold)\n",
    "                print(\"Replacing %s with %s\" % (similar_word,inside_words[similar_index][0]))\n",
    "                similar_words[similar_word] = inside_words[similar_index]\n",
    "            except: None\n",
    "            for line in tokenized_sentences:\n",
    "                for x in line:\n",
    "                    if x in similar_words: x = similar_words[x] \n",
    "                    \n",
    "    \n",
    "    # Save word_to_index & index_to_word if model is to be loaded after training\n",
    "    #np.savez('index',itw=index_to_word,wti=word_to_index)\n",
    "    \n",
    "    # Filter sentences \n",
    "    for i,line in enumerate(tokenized_sentences):\n",
    "        tokenized_sentences[i] = [w if w in word_to_index else UNKNOWN_TOKEN for w in line]\n",
    "    tokenized_sentences = [s for s in tokenized_sentences if (len(s) > 1)]\n",
    "    \n",
    "\n",
    "    print('Filtered training data:')\n",
    "    print(tokenized_sentences[:5])\n",
    "    print('\\n')\n",
    "\n",
    "    # Build training data\n",
    "    X_train = np.asarray([[word_to_index[w] for w in sent[:-1]] for sent in tokenized_sentences])\n",
    "    y_train = np.asarray([[word_to_index[w] for w in sent[1:]] for sent in tokenized_sentences])\n",
    "    return X_train,y_train,word_to_index,index_to_word\n",
    "    "
   ]
  },
  {
   "cell_type": "code",
   "execution_count": 18,
   "metadata": {
    "collapsed": false,
    "deletable": true,
    "editable": true,
    "scrolled": false
   },
   "outputs": [
    {
     "name": "stdout",
     "output_type": "stream",
     "text": [
      "Reading text file...\n",
      "Raw training data:\n",
      "['[\"Airport \\'77 starts as a brand new luxury 747 plane is loaded up with valuable paintings & such belonging to rich businessman Philip Stevens (James Stewart) who is flying them & a bunch of VIP\\'s to his estate in preparation of it being opened to the public as a museum, also on board is Stevens daughter Julie (Kathleen Quinlan) & her son', \" The luxury jetliner takes off as planned but mid-air the plane is hi-jacked by the co-pilot Chambers (Robert Foxworth) & his two accomplice's Banker (Monte Markham) & Wilson (Michael Pataki) who knock the passengers & crew out with sleeping gas, they plan to steal the valuable cargo & land on a disused plane strip on an isolated island but while making his descent Chambers almost hits an oil rig in the Ocean & loses control of the plane sending it crashing into the sea where it sinks to the bottom right bang in the middle of the Bermuda Triangle\"]\n",
      "\n",
      "\n",
      "[\" I honestly cant understand how this type of nonsense gets produced and actually released, does somebody somewhere not at some stage think, 'Oh my god this really is a load of shite' and call it a day\", \" Its crap like this that has people downloading illegally, the trailer looks like a completely different film, at least if you have download it, you haven't wasted your time or money Don't waste your time, this is painful\"]\n",
      "\n",
      "\n",
      "Parsed 327152 sentences.\n",
      "\n",
      "Tokenizing sentences...\n",
      "Done.\n",
      "\n",
      "Filtering words...\n",
      "Done.\n",
      "\n",
      "[['airport', 'starts', 'as', 'a', 'brand', 'new', 'luxury', '<NUM>', 'plane', 'is', 'loaded', 'up', 'with', 'valuable', 'paintings', '&', 'such', 'belonging', 'to', 'rich', 'businessman', 'philip', 'stevens', '(', 'james', 'stewart', ')', 'who', 'is', 'flying', 'them', '&', 'a', 'bunch', 'of', 'vip', 'to', 'his', 'estate', 'in', 'preparation', 'of', 'it', 'being', 'opened', 'to', 'the', 'public', 'as', 'a', 'museum', ',', 'also', 'on', 'board', 'is', 'stevens', 'daughter', 'julie', '(', 'kathleen', 'quinlan', ')', '&', 'her', 'son', 'the', 'luxury', 'jetliner', 'takes', 'off', 'as', 'planned', 'but', 'mid-air', 'the', 'plane', 'is', 'hi-jacked', 'by', 'the', 'co-pilot', 'chambers', '(', 'robert', 'foxworth', ')', '&', 'his', 'two', 'accomplice', 'banker', '(', 'monte', 'markham', ')', '&', 'wilson', '(', 'michael', 'pataki', ')', 'who', 'knock', 'the', 'passengers', '&', 'crew', 'out', 'with', 'sleeping', 'gas', ',', 'they', 'plan', 'to', 'steal', 'the', 'valuable', 'cargo', '&', 'land', 'on', 'a', 'disused', 'plane', 'strip', 'on', 'an', 'isolated', 'island', 'but', 'while', 'making', 'his', 'descent', 'chambers', 'almost', 'hits', 'an', 'oil', 'rig', 'in', 'the', 'ocean', '&', 'loses', 'control', 'of', 'the', 'plane', 'sending', 'it', 'crashing', 'into', 'the', 'sea', 'where', 'it', 'sinks', 'to', 'the', 'bottom', 'right', 'bang', 'in', 'the', 'middle', 'of', 'the', 'bermuda', 'triangle', 'with', 'air', 'in', 'short', 'supply', ',', 'water', 'leaking', 'in', '&', 'having', 'flown', 'over', '<NUM>', 'miles', 'off', 'course', 'the', 'problems', 'mount', 'for', 'the', 'survivor', 'as', 'they', 'await', 'help', 'with', 'time', 'fast', 'running', 'out', 'also', 'known', 'under', 'the', 'slightly', 'different', 'tile', 'airport', '<NUM>', 'this', 'second', 'sequel', 'to', 'the', 'smash-hit', 'disaster', 'thriller', 'airport', '(', '<NUM>', ')', 'was', 'directed', 'by', 'jerry', 'jameson', '&', 'while', 'once', 'again', 'like', 'it', 'predecessors', 'i', 'ca', 'say', 'airport', 'is', 'any', 'sort', 'of', 'forgotten', 'classic', 'it', 'is', 'entertaining', 'although', 'not', 'necessarily', 'for', 'the', 'right', 'reasons', 'out', 'of', 'the', 'three', 'airport', 'films', 'i', 'have', 'seen', 'so', 'far', 'i', 'actually', 'liked', 'this', 'one', 'the', 'best', ',', 'just', 'it', 'has', 'my', 'favourite', 'plot', 'of', 'the', 'three', 'with', 'a', 'nice', 'mid-air', 'hi-jacking', '&', 'then', 'the', 'crashing', '(', 'did', 'he', 'see', 'the', 'oil', 'rig', '?', ')', '&', 'sinking', 'of', 'the', '<NUM>', '(', 'maybe', 'the', 'makers', 'were', 'trying', 'to', 'cross', 'the', 'original', 'airport', 'with', 'another', 'popular', 'disaster', 'flick', 'of', 'the', 'period', 'the', 'poseidon', 'adventure', '(', '<NUM>', ')', ')', '&', 'submerged', 'is', 'where', 'it', 'stays', 'until', 'the', 'end', 'with', 'a', 'stark', 'dilemma', 'facing', 'those', 'trapped', 'inside', ',', 'either', 'suffocate', 'when', 'the', 'air', 'runs', 'out', 'or', 'drown', 'as', 'the', '<NUM>', 'floods', 'or', 'if', 'any', 'of', 'the', 'doors', 'are', 'opened', '&', 'it', 'a', 'decent', 'idea', 'that', 'could', 'have', 'made', 'for', 'a', 'great', 'little', 'disaster', 'flick', 'but', 'bad', 'unsympathetic', 'character', ',', 'dull', 'dialogue', ',', 'lethargic', 'set-pieces', '&', 'a', 'real', 'lack', 'of', 'danger', 'or', 'suspense', 'or', 'tension', 'means', 'this', 'is', 'a', 'missed', 'opportunity', 'while', 'the', 'rather', 'sluggish', 'plot', 'keeps', 'one', 'entertained', 'for', '<NUM>', 'odd', 'minutes', 'not', 'that', 'much', 'happens', 'after', 'the', 'plane', 'sinks', '&', 'there', 'not', 'as', 'much', 'urgency', 'as', 'i', 'thought', 'there', 'should', 'have', 'been', 'even', 'when', 'the', 'navy', 'become', 'involved', 'things', 'do', 'pick', 'up', 'that', 'much', 'with', 'a', 'few', 'shots', 'of', 'huge', 'ships', '&', 'helicopters', 'flying', 'about', 'but', 'there', 'just', 'something', 'lacking', 'here', 'george', 'kennedy', 'as', 'the', 'jinxed', 'airline', 'worker', 'joe', 'patroni', 'is', 'back', 'but', 'only', 'gets', 'a', 'couple', 'of', 'scenes', '&', 'barely', 'even', 'says', 'anything', 'preferring', 'to', 'just', 'look', 'worried', 'in', 'the', 'background', 'the', 'home', 'video', '&', 'theatrical', 'version', 'of', 'airport', 'run', '<NUM>', 'minutes', 'while', 'the', 'us', 'tv', 'versions', 'add', 'an', 'extra', 'hour', 'of', 'footage', 'including', 'a', 'new', 'opening', 'credits', 'sequence', ',', 'many', 'more', 'scenes', 'with', 'george', 'kennedy', 'as', 'patroni', ',', 'flashbacks', 'to', 'flesh', 'out', 'character', ',', 'longer', 'rescue', 'scenes', '&', 'the', 'discovery', 'or', 'another', 'couple', 'of', 'dead', 'bodies', 'including', 'the', 'navigator', 'while', 'i', 'would', 'like', 'to', 'see', 'this', 'extra', 'footage', 'i', 'am', 'not', 'sure', 'i', 'could', 'sit', 'through', 'a', 'near', 'three', 'hour', 'cut', 'of', 'airport', 'as', 'expected', 'the', 'film', 'has', 'dated', 'badly', 'with', 'horrible', 'fashions', '&', 'interior', 'design', 'choices', ',', 'i', 'will', 'say', 'no', 'more', 'other', 'than', 'the', 'toy', 'plane', 'model', 'effects', 'are', 'great', 'either', 'along', 'with', 'the', 'other', 'two', 'airport', 'sequels', 'this', 'takes', 'pride', 'of', 'place', 'in', 'the', 'razzie', 'award', 'hall', 'of', 'shame', 'although', 'i', 'can', 'think', 'of', 'lots', 'of', 'worse', 'films', 'than', 'this', 'so', 'i', 'reckon', 'that', 'a', 'little', 'harsh', 'the', 'action', 'scenes', 'are', 'a', 'little', 'dull', 'unfortunately', ',', 'the', 'pace', 'is', 'slow', '&', 'not', 'much', 'excitement', 'or', 'tension', 'is', 'generated', 'which', 'is', 'a', 'shame', 'as', 'i', 'reckon', 'this', 'could', 'have', 'been', 'a', 'pretty', 'good', 'film', 'if', 'made', 'properly', 'the', 'production', 'values', 'are', 'alright', 'if', 'nothing', 'spectacular', 'the', 'acting', 'is', 'great', ',', 'two', 'time', 'oscar', 'winner', 'jack', 'lemmon', 'has', 'said', 'since', 'it', 'was', 'a', 'mistake', 'to', 'star', 'in', 'this', ',', 'one', 'time', 'oscar', 'winner', 'james', 'stewart', 'looks', 'old', '&', 'frail', ',', 'also', 'one', 'time', 'oscar', 'winner', 'lee', 'grant', 'looks', 'drunk', 'while', 'sir', 'christopher', 'lee', 'is', 'given', 'little', 'to', 'do', '&', 'there', 'are', 'plenty', 'of', 'other', 'familiar', 'faces', 'to', 'look', 'out', 'for', 'too', 'airport', 'is', 'the', 'most', 'disaster', 'orientated', 'of', 'the', 'three', 'airport', 'films', 'so', 'far', '&', 'i', 'liked', 'the', 'ideas', 'behind', 'it', 'even', 'if', 'they', 'were', 'a', 'bit', 'silly', ',', 'the', 'production', '&', 'bland', 'direction', 'does', 'help', 'though', '&', 'a', 'film', 'about', 'a', 'sunken', 'plane', 'just', 'should', 'be', 'this', 'boring', 'or', 'lethargic', 'followed', 'by', 'the', 'concorde', 'airport', '(', '<NUM>', ')'], [',', '(', 'or', 'houselessness', 'as', 'george', 'carlin', 'stated', ')', 'has', 'been', 'an', 'issue', 'for', 'years', 'but', 'never', 'a', 'plan', 'to', 'help', 'those', 'on', 'the', 'street', 'that', 'were', 'once', 'considered', 'human', 'who', 'did', 'everything', 'from', 'going', 'to', 'school', ',', 'work', ',', 'or', 'vote', 'for', 'the', 'matter', 'most', 'people', 'think', 'of', 'the', 'homeless', 'as', 'just', 'a', 'lost', 'cause', 'while', 'worrying', 'about', 'things', 'such', 'as', 'racism', ',', 'the', 'war', 'on', 'iraq', ',', 'pressuring', 'kids', 'to', 'succeed', ',', 'technology', ',', 'the', 'elections', ',', 'inflation', ',', 'or', 'worrying', 'if', 'be', 'next', 'to', 'end', 'up', 'on', 'the', 'streets', 'but', 'what', 'if', 'you', 'were', 'given', 'a', 'bet', 'to', 'live', 'on', 'the', 'streets', 'for', 'a', 'month', 'without', 'the', 'luxuries', 'you', 'once', 'had', 'from', 'a', 'home', ',', 'the', 'entertainment', 'sets', ',', 'a', 'bathroom', ',', 'pictures', 'on', 'the', 'wall', ',', 'a', 'computer', ',', 'and', 'everything', 'you', 'once', 'treasure', 'to', 'see', 'what', 'like', 'to', 'be', 'homeless', '?', 'that', 'is', 'goddard', 'lesson', 'mel', 'brooks', '(', 'who', 'directs', ')', 'who', 'stars', 'as', 'bolt', 'plays', 'a', 'rich', 'man', 'who', 'has', 'everything', 'in', 'the', 'world', 'until', 'deciding', 'to', 'make', 'a', 'bet', 'with', 'a', 'sissy', 'rival', '(', 'jeffery', 'tambor', ')', 'to', 'see', 'if', 'he', 'can', 'live', 'in', 'the', 'streets', 'for', 'thirty', 'days', 'without', 'the', 'luxuries', ';', 'if', 'bolt', 'succeeds', ',', 'he', 'can', 'do', 'what', 'he', 'wants', 'with', 'a', 'future', 'project', 'of', 'making', 'more', 'buildings', 'the', 'on', 'where', 'bolt', 'is', 'thrown', 'on', 'the', 'street', 'with', 'a', 'bracelet', 'on', 'his', 'leg', 'to', 'monitor', 'his', 'every', 'move', 'where', 'he', 'step', 'off', 'the', 'sidewalk', 'given', 'the', 'nickname', 'pepto', 'by', 'a', 'vagrant', 'after', 'written', 'on', 'his', 'forehead', 'where', 'bolt', 'meets', 'other', 'characters', 'including', 'a', 'woman', 'by', 'the', 'name', 'of', 'molly', '(', 'lesley', 'ann', 'warren', ')', 'an', 'ex-dancer', 'who', 'got', 'divorce', 'before', 'losing', 'her', 'home', ',', 'and', 'her', 'pals', 'sailor', '(', 'howard', 'morris', ')', 'and', 'fumes', '(', 'teddy', 'wilson', ')', 'who', 'are', 'already', 'used', 'to', 'the', 'streets', 'survivors', 'bolt', 'not', 'used', 'to', 'reaching', 'mutual', 'agreements', 'like', 'he', 'once', 'did', 'when', 'being', 'rich', 'where', 'fight', 'or', 'flight', ',', 'kill', 'or', 'be', 'killed', 'while', 'the', 'love', 'connection', 'between', 'molly', 'and', 'bolt', 'necessary', 'to', 'plot', ',', 'i', 'found', 'life', 'stinks', 'to', 'be', 'one', 'of', 'mel', 'observant', 'films', 'where', 'prior', 'to', 'being', 'a', 'comedy', ',', 'it', 'shows', 'a', 'tender', 'side', 'compared', 'to', 'his', 'slapstick', 'work', 'such', 'as', 'blazing', 'saddles', ',', 'young', 'frankenstein', ',', 'or', 'spaceballs', 'for', 'the', 'matter', ',', 'to', 'show', 'what', 'like', 'having', 'something', 'valuable', 'before', 'losing', 'it', 'the', 'next', 'day', 'or', 'on', 'the', 'other', 'hand', 'making', 'a', 'stupid', 'bet', 'like', 'all', 'rich', 'people', 'do', 'when', 'they', 'know', 'what', 'to', 'do', 'with', 'their', 'money', 'maybe', 'they', 'should', 'give', 'it', 'to', 'the', 'homeless', 'instead', 'of', 'using', 'it', 'like', 'monopoly', 'money', 'or', 'maybe', 'this', 'film', 'will', 'inspire', 'you', 'to', 'help', 'others'], [',', 'over-acting', 'by', 'lesley', 'ann', 'warren', 'best', 'dramatic', 'hobo', 'lady', 'i', 'have', 'ever', 'seen', ',', 'and', 'love', 'scenes', 'in', 'clothes', 'warehouse', 'are', 'second', 'to', 'none', 'the', 'corn', 'on', 'face', 'is', 'a', 'classic', ',', 'as', 'good', 'as', 'anything', 'in', 'blazing', 'saddles', 'the', 'take', 'on', 'lawyers', 'is', 'also', 'superb', 'after', 'being', 'accused', 'of', 'being', 'a', 'turncoat', ',', 'selling', 'out', 'his', 'boss', ',', 'and', 'being', 'dishonest', 'the', 'lawyer', 'of', 'pepto', 'bolt', 'shrugs', 'indifferently', 'a', 'lawyer', 'he', 'says', 'three', 'funny', 'words', 'jeffrey', 'tambor', ',', 'a', 'favorite', 'from', 'the', 'later', 'larry', 'sanders', 'show', ',', 'is', 'fantastic', 'here', 'too', 'as', 'a', 'mad', 'millionaire', 'who', 'wants', 'to', 'crush', 'the', 'ghetto', 'his', 'character', 'is', 'more', 'malevolent', 'than', 'usual', 'the', 'hospital', 'scene', ',', 'and', 'the', 'scene', 'where', 'the', 'homeless', 'invade', 'a', 'demolition', 'site', ',', 'are', 'all-time', 'classics', 'look', 'for', 'the', 'legs', 'scene', 'and', 'the', 'two', 'big', 'diggers', 'fighting', '(', 'one', 'bleeds', ')', 'this', 'movie', 'gets', 'better', 'each', 'time', 'i', 'see', 'it', '(', 'which', 'is', 'quite', 'often', ')'], [',', 'this', 'film', 'lacked', 'something', 'i', 'could', 'put', 'my', 'finger', 'on', 'at', 'first', ':', 'charisma', 'on', 'the', 'part', 'of', 'the', 'leading', 'actress', 'this', 'inevitably', 'translated', 'to', 'lack', 'of', 'chemistry', 'when', 'she', 'shared', 'the', 'screen', 'with', 'her', 'leading', 'man', 'even', 'the', 'romantic', 'scenes', 'came', 'across', 'as', 'being', 'merely', 'the', 'actors', 'at', 'play', 'it', 'could', 'very', 'well', 'have', 'been', 'the', 'director', 'who', 'miscalculated', 'what', 'he', 'needed', 'from', 'the', 'actors', 'i', 'just', 'do', 'know', 'but', 'could', 'it', 'have', 'been', 'the', 'screenplay', '?', 'just', 'exactly', 'who', 'was', 'the', 'chef', 'in', 'love', 'with', '?', 'he', 'seemed', 'more', 'enamored', 'of', 'his', 'culinary', 'skills', 'and', 'restaurant', ',', 'and', 'ultimately', 'of', 'himself', 'and', 'his', 'youthful', 'exploits', ',', 'than', 'of', 'anybody', 'or', 'anything', 'else', 'he', 'never', 'convinced', 'me', 'he', 'was', 'in', 'love', 'with', 'the', 'princess', 'i', 'was', 'disappointed', 'in', 'this', 'movie', 'but', ',', 'do', 'forget', 'it', 'was', 'nominated', 'for', 'an', 'oscar', ',', 'so', 'judge', 'for', 'yourself'], [',', 'everyone', ',', ',', ',', 'i', 'know', 'this', 'is', 'supposed', 'to', 'be', 'an', 'art', 'film', ',', ',', 'but', 'wow', ',', 'they', 'should', 'have', 'handed', 'out', 'guns', 'at', 'the', 'screening', 'so', 'people', 'could', 'blow', 'their', 'brains', 'out', 'and', 'not', 'watch', 'although', 'the', 'scene', 'design', 'and', 'photographic', 'direction', 'was', 'excellent', ',', 'this', 'story', 'is', 'too', 'painful', 'to', 'watch', 'the', 'absence', 'of', 'a', 'sound', 'track', 'was', 'brutal', 'the', 'loooonnnnng', 'shots', 'were', 'too', 'long', 'how', 'long', 'can', 'you', 'watch', 'two', 'people', 'just', 'sitting', 'there', 'and', 'talking', '?', 'especially', 'when', 'the', 'dialogue', 'is', 'two', 'people', 'complaining', 'i', 'really', 'had', 'a', 'hard', 'time', 'just', 'getting', 'through', 'this', 'film', 'the', 'performances', 'were', 'excellent', ',', 'but', 'how', 'much', 'of', 'that', 'dark', ',', 'sombre', ',', 'uninspired', ',', 'stuff', 'can', 'you', 'take', '?', 'the', 'only', 'thing', 'i', 'liked', 'was', 'maureen', 'stapleton', 'and', 'her', 'red', 'dress', 'and', 'dancing', 'scene', 'otherwise', 'this', 'was', 'a', 'ripoff', 'of', 'bergman', 'and', 'no', 'fan', 'f', 'his', 'either', 'i', 'think', 'anyone', 'who', 'says', 'they', 'enjoyed', '<NUM>', '1/2', 'hours', 'of', 'this', 'is', ',', ',', 'well', ',', 'lying']]\n",
      "Found 91773 unique words tokens.\n",
      "\n",
      "Loading word embeddings...\n",
      "Word embedding vocab size:  200000 \n",
      "\n",
      "Found 55510 out of 91773 words in GloVe embeddings.\n",
      "41881 out of 55510 words appears more than once.\n",
      "\n",
      "Using vocabulary size 6000.\n",
      "The least frequent word in our vocablary is 'unsuspecting' and appeared 60 times in this dataset.\n",
      "\n",
      "Searching for similar words...\n",
      "Replacing mets with sox\n",
      "Replacing obama with bush\n",
      "Replacing kilometers with miles\n",
      "Replacing firms with companies\n",
      "Replacing tonnes with tons\n",
      "Replacing 15th with 13th\n",
      "Replacing 16th with 13th\n",
      "Replacing elections with election\n",
      "Replacing made-for-television with made-for-tv\n",
      "Replacing 12th with 13th\n",
      "Replacing wednesday with friday\n",
      "Replacing thursday with friday\n",
      "Replacing february with september\n",
      "Replacing tuesday with friday\n",
      "Replacing yankees with sox\n",
      "Replacing 10th with 13th\n",
      "Replacing requiring with require\n",
      "Replacing 17th with 13th\n",
      "Replacing 7th with 4th\n",
      "Replacing 14th with 13th\n",
      "Replacing clinton with bush\n",
      "Replacing fourteen with fifteen\n",
      "Replacing granddaughter with niece\n",
      "Replacing 6th with 4th\n",
      "Replacing 5th with 4th\n",
      "Replacing 8th with 4th\n",
      "Replacing 11th with 13th\n",
      "Replacing december with september\n",
      "Replacing january with september\n",
      "Replacing amusingly with hilariously\n",
      "Replacing abducted with kidnapped\n",
      "Replacing sixteen with fifteen\n",
      "Replacing november with september\n",
      "Replacing grisly with gruesome\n",
      "Replacing 1920s with 1930s\n",
      "Replacing monday with friday\n",
      "Replacing sorrow with sadness\n",
      "Replacing october with september\n",
      "Replacing darth with vader\n",
      "Replacing july with june\n",
      "Replacing august with september\n",
      "Replacing sixth with fourth\n",
      "Replacing gwyneth with paltrow\n",
      "Replacing barbra with streisand\n",
      "Replacing nbc with abc\n",
      "Replacing 1940s with 1950s\n",
      "Replacing eleven with fifteen\n",
      "Replacing cbs with abc\n",
      "Replacing fifth with fourth\n",
      "Replacing 1990s with 1980s\n",
      "Replacing males with females\n",
      "Filtered training data:\n",
      "[['airport', 'starts', 'as', 'a', 'brand', 'new', '<UNK>', '<UNK>', 'plane', 'is', 'loaded', 'up', 'with', 'valuable', 'paintings', '&', 'such', '<UNK>', 'to', 'rich', 'businessman', 'philip', 'stevens', '(', 'james', 'stewart', ')', 'who', 'is', 'flying', 'them', '&', 'a', 'bunch', 'of', '<UNK>', 'to', 'his', 'estate', 'in', '<UNK>', 'of', 'it', 'being', 'opened', 'to', 'the', 'public', 'as', 'a', 'museum', ',', 'also', 'on', 'board', 'is', 'stevens', 'daughter', 'julie', '(', '<UNK>', '<UNK>', ')', '&', 'her', 'son', 'the', '<UNK>', '<UNK>', 'takes', 'off', 'as', 'planned', 'but', '<UNK>', 'the', 'plane', 'is', '<UNK>', 'by', 'the', '<UNK>', '<UNK>', '(', 'robert', '<UNK>', ')', '&', 'his', 'two', '<UNK>', '<UNK>', '(', '<UNK>', '<UNK>', ')', '&', 'wilson', '(', 'michael', '<UNK>', ')', 'who', 'knock', 'the', '<UNK>', '&', 'crew', 'out', 'with', 'sleeping', 'gas', ',', 'they', 'plan', 'to', 'steal', 'the', 'valuable', '<UNK>', '&', 'land', 'on', 'a', '<UNK>', 'plane', 'strip', 'on', 'an', 'isolated', 'island', 'but', 'while', 'making', 'his', 'descent', '<UNK>', 'almost', 'hits', 'an', 'oil', '<UNK>', 'in', 'the', 'ocean', '&', 'loses', 'control', 'of', 'the', 'plane', 'sending', 'it', '<UNK>', 'into', 'the', 'sea', 'where', 'it', '<UNK>', 'to', 'the', 'bottom', 'right', 'bang', 'in', 'the', 'middle', 'of', 'the', '<UNK>', 'triangle', 'with', 'air', 'in', 'short', 'supply', ',', 'water', '<UNK>', 'in', '&', 'having', '<UNK>', 'over', '<UNK>', 'miles', 'off', 'course', 'the', 'problems', '<UNK>', 'for', 'the', 'survivor', 'as', 'they', '<UNK>', 'help', 'with', 'time', 'fast', 'running', 'out', 'also', 'known', 'under', 'the', 'slightly', 'different', '<UNK>', 'airport', '<UNK>', 'this', 'second', 'sequel', 'to', 'the', '<UNK>', 'disaster', 'thriller', 'airport', '(', '<UNK>', ')', 'was', 'directed', 'by', 'jerry', '<UNK>', '&', 'while', 'once', 'again', 'like', 'it', '<UNK>', 'i', 'ca', 'say', 'airport', 'is', 'any', 'sort', 'of', 'forgotten', 'classic', 'it', 'is', 'entertaining', 'although', 'not', 'necessarily', 'for', 'the', 'right', 'reasons', 'out', 'of', 'the', 'three', 'airport', 'films', 'i', 'have', 'seen', 'so', 'far', 'i', 'actually', 'liked', 'this', 'one', 'the', 'best', ',', 'just', 'it', 'has', 'my', 'favourite', 'plot', 'of', 'the', 'three', 'with', 'a', 'nice', '<UNK>', '<UNK>', '&', 'then', 'the', '<UNK>', '(', 'did', 'he', 'see', 'the', 'oil', '<UNK>', '?', ')', '&', '<UNK>', 'of', 'the', '<UNK>', '(', 'maybe', 'the', 'makers', 'were', 'trying', 'to', 'cross', 'the', 'original', 'airport', 'with', 'another', 'popular', 'disaster', 'flick', 'of', 'the', 'period', 'the', '<UNK>', 'adventure', '(', '<UNK>', ')', ')', '&', '<UNK>', 'is', 'where', 'it', 'stays', 'until', 'the', 'end', 'with', 'a', 'stark', '<UNK>', 'facing', 'those', 'trapped', 'inside', ',', 'either', '<UNK>', 'when', 'the', 'air', 'runs', 'out', 'or', '<UNK>', 'as', 'the', '<UNK>', '<UNK>', 'or', 'if', 'any', 'of', 'the', 'doors', 'are', 'opened', '&', 'it', 'a', 'decent', 'idea', 'that', 'could', 'have', 'made', 'for', 'a', 'great', 'little', 'disaster', 'flick', 'but', 'bad', '<UNK>', 'character', ',', 'dull', 'dialogue', ',', '<UNK>', '<UNK>', '&', 'a', 'real', 'lack', 'of', 'danger', 'or', 'suspense', 'or', 'tension', 'means', 'this', 'is', 'a', 'missed', 'opportunity', 'while', 'the', 'rather', '<UNK>', 'plot', 'keeps', 'one', 'entertained', 'for', '<UNK>', 'odd', 'minutes', 'not', 'that', 'much', 'happens', 'after', 'the', 'plane', '<UNK>', '&', 'there', 'not', 'as', 'much', '<UNK>', 'as', 'i', 'thought', 'there', 'should', 'have', 'been', 'even', 'when', 'the', 'navy', 'become', 'involved', 'things', 'do', 'pick', 'up', 'that', 'much', 'with', 'a', 'few', 'shots', 'of', 'huge', 'ships', '&', '<UNK>', 'flying', 'about', 'but', 'there', 'just', 'something', 'lacking', 'here', 'george', 'kennedy', 'as', 'the', '<UNK>', '<UNK>', 'worker', 'joe', '<UNK>', 'is', 'back', 'but', 'only', 'gets', 'a', 'couple', 'of', 'scenes', '&', 'barely', 'even', 'says', 'anything', '<UNK>', 'to', 'just', 'look', 'worried', 'in', 'the', 'background', 'the', 'home', 'video', '&', 'theatrical', 'version', 'of', 'airport', 'run', '<UNK>', 'minutes', 'while', 'the', 'us', 'tv', 'versions', 'add', 'an', 'extra', 'hour', 'of', 'footage', 'including', 'a', 'new', 'opening', 'credits', 'sequence', ',', 'many', 'more', 'scenes', 'with', 'george', 'kennedy', 'as', '<UNK>', ',', 'flashbacks', 'to', 'flesh', 'out', 'character', ',', 'longer', 'rescue', 'scenes', '&', 'the', 'discovery', 'or', 'another', 'couple', 'of', 'dead', 'bodies', 'including', 'the', '<UNK>', 'while', 'i', 'would', 'like', 'to', 'see', 'this', 'extra', 'footage', 'i', 'am', 'not', 'sure', 'i', 'could', 'sit', 'through', 'a', 'near', 'three', 'hour', 'cut', 'of', 'airport', 'as', 'expected', 'the', 'film', 'has', 'dated', 'badly', 'with', 'horrible', '<UNK>', '&', '<UNK>', 'design', 'choices', ',', 'i', 'will', 'say', 'no', 'more', 'other', 'than', 'the', 'toy', 'plane', 'model', 'effects', 'are', 'great', 'either', 'along', 'with', 'the', 'other', 'two', 'airport', 'sequels', 'this', 'takes', 'pride', 'of', 'place', 'in', 'the', '<UNK>', 'award', 'hall', 'of', 'shame', 'although', 'i', 'can', 'think', 'of', 'lots', 'of', 'worse', 'films', 'than', 'this', 'so', 'i', '<UNK>', 'that', 'a', 'little', 'harsh', 'the', 'action', 'scenes', 'are', 'a', 'little', 'dull', 'unfortunately', ',', 'the', 'pace', 'is', 'slow', '&', 'not', 'much', 'excitement', 'or', 'tension', 'is', 'generated', 'which', 'is', 'a', 'shame', 'as', 'i', '<UNK>', 'this', 'could', 'have', 'been', 'a', 'pretty', 'good', 'film', 'if', 'made', 'properly', 'the', 'production', 'values', 'are', 'alright', 'if', 'nothing', 'spectacular', 'the', 'acting', 'is', 'great', ',', 'two', 'time', 'oscar', 'winner', 'jack', 'lemmon', 'has', 'said', 'since', 'it', 'was', 'a', 'mistake', 'to', 'star', 'in', 'this', ',', 'one', 'time', 'oscar', 'winner', 'james', 'stewart', 'looks', 'old', '&', '<UNK>', ',', 'also', 'one', 'time', 'oscar', 'winner', 'lee', 'grant', 'looks', 'drunk', 'while', 'sir', 'christopher', 'lee', 'is', 'given', 'little', 'to', 'do', '&', 'there', 'are', 'plenty', 'of', 'other', 'familiar', 'faces', 'to', 'look', 'out', 'for', 'too', 'airport', 'is', 'the', 'most', 'disaster', '<UNK>', 'of', 'the', 'three', 'airport', 'films', 'so', 'far', '&', 'i', 'liked', 'the', 'ideas', 'behind', 'it', 'even', 'if', 'they', 'were', 'a', 'bit', 'silly', ',', 'the', 'production', '&', 'bland', 'direction', 'does', 'help', 'though', '&', 'a', 'film', 'about', 'a', '<UNK>', 'plane', 'just', 'should', 'be', 'this', 'boring', 'or', '<UNK>', 'followed', 'by', 'the', '<UNK>', 'airport', '(', '<UNK>', ')'], [',', '(', 'or', '<UNK>', 'as', 'george', '<UNK>', 'stated', ')', 'has', 'been', 'an', 'issue', 'for', 'years', 'but', 'never', 'a', 'plan', 'to', 'help', 'those', 'on', 'the', 'street', 'that', 'were', 'once', 'considered', 'human', 'who', 'did', 'everything', 'from', 'going', 'to', 'school', ',', 'work', ',', 'or', 'vote', 'for', 'the', 'matter', 'most', 'people', 'think', 'of', 'the', 'homeless', 'as', 'just', 'a', 'lost', 'cause', 'while', '<UNK>', 'about', 'things', 'such', 'as', 'racism', ',', 'the', 'war', 'on', 'iraq', ',', '<UNK>', 'kids', 'to', 'succeed', ',', 'technology', ',', 'the', '<UNK>', ',', '<UNK>', ',', 'or', '<UNK>', 'if', 'be', 'next', 'to', 'end', 'up', 'on', 'the', 'streets', 'but', 'what', 'if', 'you', 'were', 'given', 'a', 'bet', 'to', 'live', 'on', 'the', 'streets', 'for', 'a', 'month', 'without', 'the', '<UNK>', 'you', 'once', 'had', 'from', 'a', 'home', ',', 'the', 'entertainment', 'sets', ',', 'a', 'bathroom', ',', 'pictures', 'on', 'the', 'wall', ',', 'a', 'computer', ',', 'and', 'everything', 'you', 'once', 'treasure', 'to', 'see', 'what', 'like', 'to', 'be', 'homeless', '?', 'that', 'is', '<UNK>', 'lesson', 'mel', 'brooks', '(', 'who', 'directs', ')', 'who', 'stars', 'as', '<UNK>', 'plays', 'a', 'rich', 'man', 'who', 'has', 'everything', 'in', 'the', 'world', 'until', '<UNK>', 'to', 'make', 'a', 'bet', 'with', 'a', 'sissy', 'rival', '(', '<UNK>', '<UNK>', ')', 'to', 'see', 'if', 'he', 'can', 'live', 'in', 'the', 'streets', 'for', 'thirty', 'days', 'without', 'the', '<UNK>', ';', 'if', '<UNK>', 'succeeds', ',', 'he', 'can', 'do', 'what', 'he', 'wants', 'with', 'a', 'future', 'project', 'of', 'making', 'more', 'buildings', 'the', 'on', 'where', '<UNK>', 'is', 'thrown', 'on', 'the', 'street', 'with', 'a', '<UNK>', 'on', 'his', 'leg', 'to', '<UNK>', 'his', 'every', 'move', 'where', 'he', 'step', 'off', 'the', '<UNK>', 'given', 'the', '<UNK>', '<UNK>', 'by', 'a', '<UNK>', 'after', 'written', 'on', 'his', '<UNK>', 'where', '<UNK>', 'meets', 'other', 'characters', 'including', 'a', 'woman', 'by', 'the', 'name', 'of', 'molly', '(', '<UNK>', 'ann', 'warren', ')', 'an', '<UNK>', 'who', 'got', 'divorce', 'before', 'losing', 'her', 'home', ',', 'and', 'her', '<UNK>', '<UNK>', '(', 'howard', 'morris', ')', 'and', '<UNK>', '(', '<UNK>', 'wilson', ')', 'who', 'are', 'already', 'used', 'to', 'the', 'streets', 'survivors', '<UNK>', 'not', 'used', 'to', 'reaching', 'mutual', '<UNK>', 'like', 'he', 'once', 'did', 'when', 'being', 'rich', 'where', 'fight', 'or', 'flight', ',', 'kill', 'or', 'be', 'killed', 'while', 'the', 'love', 'connection', 'between', 'molly', 'and', '<UNK>', 'necessary', 'to', 'plot', ',', 'i', 'found', 'life', 'stinks', 'to', 'be', 'one', 'of', 'mel', '<UNK>', 'films', 'where', 'prior', 'to', 'being', 'a', 'comedy', ',', 'it', 'shows', 'a', 'tender', 'side', 'compared', 'to', 'his', 'slapstick', 'work', 'such', 'as', '<UNK>', '<UNK>', ',', 'young', 'frankenstein', ',', 'or', '<UNK>', 'for', 'the', 'matter', ',', 'to', 'show', 'what', 'like', 'having', 'something', 'valuable', 'before', 'losing', 'it', 'the', 'next', 'day', 'or', 'on', 'the', 'other', 'hand', 'making', 'a', 'stupid', 'bet', 'like', 'all', 'rich', 'people', 'do', 'when', 'they', 'know', 'what', 'to', 'do', 'with', 'their', 'money', 'maybe', 'they', 'should', 'give', 'it', 'to', 'the', 'homeless', 'instead', 'of', 'using', 'it', 'like', '<UNK>', 'money', 'or', 'maybe', 'this', 'film', 'will', 'inspire', 'you', 'to', 'help', 'others'], [',', '<UNK>', 'by', '<UNK>', 'ann', 'warren', 'best', 'dramatic', '<UNK>', 'lady', 'i', 'have', 'ever', 'seen', ',', 'and', 'love', 'scenes', 'in', 'clothes', '<UNK>', 'are', 'second', 'to', 'none', 'the', '<UNK>', 'on', 'face', 'is', 'a', 'classic', ',', 'as', 'good', 'as', 'anything', 'in', '<UNK>', '<UNK>', 'the', 'take', 'on', '<UNK>', 'is', 'also', 'superb', 'after', 'being', 'accused', 'of', 'being', 'a', '<UNK>', ',', 'selling', 'out', 'his', 'boss', ',', 'and', 'being', '<UNK>', 'the', 'lawyer', 'of', '<UNK>', '<UNK>', '<UNK>', '<UNK>', 'a', 'lawyer', 'he', 'says', 'three', 'funny', 'words', 'jeffrey', '<UNK>', ',', 'a', 'favorite', 'from', 'the', 'later', 'larry', '<UNK>', 'show', ',', 'is', 'fantastic', 'here', 'too', 'as', 'a', 'mad', 'millionaire', 'who', 'wants', 'to', 'crush', 'the', '<UNK>', 'his', 'character', 'is', 'more', '<UNK>', 'than', 'usual', 'the', 'hospital', 'scene', ',', 'and', 'the', 'scene', 'where', 'the', 'homeless', '<UNK>', 'a', '<UNK>', 'site', ',', 'are', 'all-time', 'classics', 'look', 'for', 'the', 'legs', 'scene', 'and', 'the', 'two', 'big', '<UNK>', 'fighting', '(', 'one', '<UNK>', ')', 'this', 'movie', 'gets', 'better', 'each', 'time', 'i', 'see', 'it', '(', 'which', 'is', 'quite', 'often', ')'], [',', 'this', 'film', 'lacked', 'something', 'i', 'could', 'put', 'my', 'finger', 'on', 'at', 'first', ':', 'charisma', 'on', 'the', 'part', 'of', 'the', 'leading', 'actress', 'this', 'inevitably', 'translated', 'to', 'lack', 'of', 'chemistry', 'when', 'she', 'shared', 'the', 'screen', 'with', 'her', 'leading', 'man', 'even', 'the', 'romantic', 'scenes', 'came', 'across', 'as', 'being', 'merely', 'the', 'actors', 'at', 'play', 'it', 'could', 'very', 'well', 'have', 'been', 'the', 'director', 'who', '<UNK>', 'what', 'he', 'needed', 'from', 'the', 'actors', 'i', 'just', 'do', 'know', 'but', 'could', 'it', 'have', 'been', 'the', 'screenplay', '?', 'just', 'exactly', 'who', 'was', 'the', '<UNK>', 'in', 'love', 'with', '?', 'he', 'seemed', 'more', '<UNK>', 'of', 'his', '<UNK>', 'skills', 'and', 'restaurant', ',', 'and', 'ultimately', 'of', 'himself', 'and', 'his', 'youthful', 'exploits', ',', 'than', 'of', 'anybody', 'or', 'anything', 'else', 'he', 'never', 'convinced', 'me', 'he', 'was', 'in', 'love', 'with', 'the', 'princess', 'i', 'was', 'disappointed', 'in', 'this', 'movie', 'but', ',', 'do', 'forget', 'it', 'was', 'nominated', 'for', 'an', 'oscar', ',', 'so', 'judge', 'for', 'yourself'], [',', 'everyone', ',', ',', ',', 'i', 'know', 'this', 'is', 'supposed', 'to', 'be', 'an', 'art', 'film', ',', ',', 'but', 'wow', ',', 'they', 'should', 'have', 'handed', 'out', 'guns', 'at', 'the', 'screening', 'so', 'people', 'could', 'blow', 'their', 'brains', 'out', 'and', 'not', 'watch', 'although', 'the', 'scene', 'design', 'and', '<UNK>', 'direction', 'was', 'excellent', ',', 'this', 'story', 'is', 'too', 'painful', 'to', 'watch', 'the', 'absence', 'of', 'a', 'sound', 'track', 'was', 'brutal', 'the', '<UNK>', 'shots', 'were', 'too', 'long', 'how', 'long', 'can', 'you', 'watch', 'two', 'people', 'just', 'sitting', 'there', 'and', 'talking', '?', 'especially', 'when', 'the', 'dialogue', 'is', 'two', 'people', 'complaining', 'i', 'really', 'had', 'a', 'hard', 'time', 'just', 'getting', 'through', 'this', 'film', 'the', 'performances', 'were', 'excellent', ',', 'but', 'how', 'much', 'of', 'that', 'dark', ',', '<UNK>', ',', 'uninspired', ',', 'stuff', 'can', 'you', 'take', '?', 'the', 'only', 'thing', 'i', 'liked', 'was', '<UNK>', '<UNK>', 'and', 'her', 'red', 'dress', 'and', 'dancing', 'scene', 'otherwise', 'this', 'was', 'a', '<UNK>', 'of', 'bergman', 'and', 'no', 'fan', 'f', 'his', 'either', 'i', 'think', 'anyone', 'who', 'says', 'they', 'enjoyed', '<UNK>', '1/2', 'hours', 'of', 'this', 'is', ',', ',', 'well', ',', 'lying']]\n",
      "\n",
      "\n"
     ]
    }
   ],
   "source": [
    "d = load_data(data_file,6000)"
   ]
  }
 ],
 "metadata": {
  "kernelspec": {
   "display_name": "Python 3",
   "language": "python",
   "name": "python3"
  },
  "language_info": {
   "codemirror_mode": {
    "name": "ipython",
    "version": 3
   },
   "file_extension": ".py",
   "mimetype": "text/x-python",
   "name": "python",
   "nbconvert_exporter": "python",
   "pygments_lexer": "ipython3",
   "version": "3.6.0"
  }
 },
 "nbformat": 4,
 "nbformat_minor": 2
}
